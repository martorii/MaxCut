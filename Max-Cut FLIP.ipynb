{
 "cells": [
  {
   "cell_type": "markdown",
   "metadata": {},
   "source": [
    "# Questions\n",
    " 1. By using the FLIP algorithm, we get stuck in local optima. Should we maybe consider some explorability on the local search and therefore maybe lead to the global?\n",
    " 2. Is there any recommended use of the flip algorithm? I considered here Best-Greedy-Flip and First-Better-Flip.\n",
    "    The second seems to work better. Is it worth to include this in the written work?\n",
    "   "
   ]
  },
  {
   "cell_type": "code",
   "execution_count": 1,
   "metadata": {},
   "outputs": [
    {
     "name": "stdout",
     "output_type": "stream",
     "text": [
      "Using matplotlib backend: Qt5Agg\n"
     ]
    }
   ],
   "source": [
    "import numpy as np\n",
    "import networkx as nx\n",
    "import networkx.drawing\n",
    "import matplotlib.pyplot as plt\n",
    "import time\n",
    "\n",
    "%matplotlib"
   ]
  },
  {
   "cell_type": "code",
   "execution_count": 110,
   "metadata": {},
   "outputs": [],
   "source": [
    "def PlotGraph(G, partition = None):\n",
    "    G = nx.from_numpy_matrix(W)\n",
    "    pos = nx.spring_layout(G)\n",
    "    # Draw the graph according to node positions\n",
    "    if partition is not None:\n",
    "        colors= np.fromiter(partition.values(), dtype=int)+1\n",
    "        nx.draw(G, pos, with_labels=True, node_color=colors)\n",
    "    else:\n",
    "        nx.draw(G, pos, with_labels=True)\n",
    "    # Create edge labels\n",
    "    labels = nx.get_edge_attributes(G, 'weight')\n",
    "\n",
    "    # Draw edge labels according to node positions\n",
    "    nx.draw_networkx_edge_labels(G, pos, edge_labels=labels)\n",
    "\n",
    "    plt.show()\n",
    "    return\n",
    "\n",
    "def InitializeGraph(n, min_weight, max_weight):\n",
    "    W = np.random.uniform(low=min_weight, high=max_weight, size=(n,n))\n",
    "    W = np.round((W + W.T)/2,2)\n",
    "    np.fill_diagonal(W, 0)\n",
    "    return W\n",
    "\n",
    "def GetKRandomPartition(n, k):\n",
    "    partition = {}\n",
    "    for i in range(n):\n",
    "        partition[i]=np.random.randint(low=0, high=k, size=1)[0]\n",
    "    return partition\n",
    "\n",
    "def CutCost(W, partition, n, k):\n",
    "    z = 0\n",
    "    identity = np.identity(k)\n",
    "    for i in range(n):\n",
    "        for j in range(i, n):\n",
    "            z += (1-identity[partition[i], partition[j]])*W[i,j]\n",
    "    return z\n",
    "        \n",
    "def CutGainAfterFlip(W, initial_partition, final_partition, n):\n",
    "    # Vi: initial partition of the vertex v\n",
    "    # Vj: final partition of the vertex v\n",
    "    # z: current cut\n",
    "    weights_to_add = 0\n",
    "    weights_to_substract = 0\n",
    "    \n",
    "    diff_partition = {key: initial_partition[key] - final_partition.get(key, 0) for key in initial_partition}\n",
    "    \n",
    "    # v: vertex that flipped\n",
    "    v = [key for key, val in diff_partition.items() if val!=0][0]\n",
    "    Vi = initial_partition[v]\n",
    "    Vj = final_partition[v]\n",
    "    \n",
    "    vertices_in_Vi = [key  for (key, value) in initial_partition.items() if value == Vi]\n",
    "    vertices_in_Vj = [key  for (key, value) in initial_partition.items() if value == Vj]\n",
    "    for vi in vertices_in_Vi:\n",
    "        weights_to_add += W[v, vi]\n",
    "    for vj in vertices_in_Vj:\n",
    "        weights_to_substract += W[v, vj]\n",
    "    z = weights_to_add - weights_to_substract\n",
    "    return z\n",
    "        \n",
    "    \n",
    "def GreedyBestFlip(W, partition, n, k, z):\n",
    "    cut_costs = []\n",
    "    partitions_flip = []\n",
    "    # Permutate vertices so that we do not always start by the same one\n",
    "    order = np.random.permutation(range(n))\n",
    "    for i in order:\n",
    "        for j in range(1, k):            \n",
    "            new_partition = partition.copy()\n",
    "            new_partition[i] = (new_partition[i]+j)%k\n",
    "            partitions_flip.append(new_partition)\n",
    "            cut_costs.append(CutGainAfterFlip(W, partition, new_partition, n))\n",
    "      \n",
    "    # Convert the list to a numpy array\n",
    "    cut_costs = np.asarray(cut_costs)\n",
    "    if np.any(cut_costs[cut_costs>0]):\n",
    "        # New best partition was found\n",
    "        best_index = np.argmax(cut_costs)\n",
    "        best_partition = partitions_flip[best_index]\n",
    "        new_cut_cost = z + cut_costs[best_index]\n",
    "        return best_partition, new_cut_cost\n",
    "    else:\n",
    "        # We are in a local optimum\n",
    "        return partition, z\n",
    "    \n",
    "def FirstBetterFlip(W, partition, n, k, z):\n",
    "    # Permutate vertices so that we do not always start by the same one\n",
    "    order = np.random.permutation(range(n))\n",
    "    for i in order:\n",
    "        for j in range(1, k):            \n",
    "            new_partition = partition.copy()\n",
    "            new_partition[i] = (new_partition[i]+j)%k\n",
    "            new_z = CutGainAfterFlip(W, partition, new_partition, n)\n",
    "            if new_z > 0:\n",
    "                return new_partition, z + new_z\n",
    "      \n",
    "    return partition, z\n",
    "    \n",
    "def SolveMaxCut(W, n, k, z, initial_partition, method):\n",
    "    tol = 1e-05\n",
    "    maxIter = 1000\n",
    "    it = 0\n",
    "    \n",
    "    zt1 = -1\n",
    "    zt2 = CutCost(W, initial_partition, n, k)\n",
    "    partition = initial_partition\n",
    "    \n",
    "    start = time.time()\n",
    "    if method == \"GreedyBestFlip\":\n",
    "        while(abs(zt1-zt2)>tol and it<maxIter):\n",
    "            partition, new_z = GreedyBestFlip(W, partition, n, k, zt2)\n",
    "            zt1 = zt2\n",
    "            zt2 = new_z\n",
    "            it = it + 1\n",
    "    elif method == \"FirstBetterFlip\":\n",
    "        while(abs(zt1-zt2)>tol and it<maxIter):\n",
    "            partition, new_z = FirstBetterFlip(W, partition, n, k, zt2)\n",
    "            zt1 = zt2\n",
    "            zt2 = new_z\n",
    "            it = it + 1\n",
    "            \n",
    "    end = time.time()\n",
    "    elapsed_time = np.round(end - start, 4)\n",
    "    return partition, new_z, elapsed_time"
   ]
  },
  {
   "cell_type": "code",
   "execution_count": 111,
   "metadata": {},
   "outputs": [
    {
     "name": "stdout",
     "output_type": "stream",
     "text": [
      "[  2   4   7  16  32  64 127 256 512]\n"
     ]
    }
   ],
   "source": [
    "# Define main parameters\n",
    "n = 6\n",
    "k = 3\n",
    "max_weight = 10\n",
    "print(np.geomspace(2, 512, num=9, dtype=int))"
   ]
  },
  {
   "cell_type": "code",
   "execution_count": 112,
   "metadata": {},
   "outputs": [
    {
     "data": {
      "image/png": "[encoded data removed]",
      "text/plain": [
       "<Figure size 432x288 with 1 Axes>"
      ]
     },
     "metadata": {},
     "output_type": "display_data"
    }
   ],
   "source": [
    "# Create graph and initial partition\n",
    "W = InitializeGraph(n, min_weight=1, max_weight=10)\n",
    "\n",
    "initial_partition = GetKRandomPartition(n, k)\n",
    "initial_z = CutCost(W, initial_partition, n, k)\n",
    "\n",
    "PlotGraph(W, initial_partition)"
   ]
  },
  {
   "cell_type": "code",
   "execution_count": 113,
   "metadata": {},
   "outputs": [
    {
     "name": "stdout",
     "output_type": "stream",
     "text": [
      "40.61\n",
      "61.459999999999994\n",
      "Greedy Best Flip --> Elapsed time: 0.001 s.\n",
      "\n",
      "40.61\n",
      "57.05\n",
      "First Better Flip --> Elapsed time: 0.0 s.\n"
     ]
    }
   ],
   "source": [
    "initial_partition = GetKRandomPartition(n, k)\n",
    "initial_z = CutCost(W, initial_partition, n, k)\n",
    "\n",
    "partition, z, elapsed_time = SolveMaxCut(W, n, k, initial_z, initial_partition, \"GreedyBestFlip\")\n",
    "print(initial_z)\n",
    "print(z)\n",
    "print(\"Greedy Best Flip --> Elapsed time: \" + str(elapsed_time) + \" s.\\n\")\n",
    "\n",
    "partition, z, elapsed_time = SolveMaxCut(W, n, k, initial_z, initial_partition, \"FirstBetterFlip\")\n",
    "print(initial_z)\n",
    "print(z)\n",
    "print(\"First Better Flip --> Elapsed time: \" + str(elapsed_time) + \" s.\")"
   ]
  },
  {
   "cell_type": "code",
   "execution_count": 114,
   "metadata": {},
   "outputs": [],
   "source": [
    "def RunGridMaxCut(min_nodes, max_nodes, step_nodes, min_k, max_k, min_weight, max_weight, iters_for_nk):\n",
    "\n",
    "    nodes = np.geomspace(min_nodes, max_nodes, num=step_nodes, dtype=int)\n",
    "    ks = range(min_k, max_k+1)\n",
    "\n",
    "    times_mean = np.zeros((len(nodes), len(ks)))\n",
    "    gaps_mean = np.zeros((len(nodes), len(ks)))\n",
    "    i = 0\n",
    "    j = 0\n",
    "\n",
    "    for ni in nodes:\n",
    "        for ki in ks:\n",
    "            times = 0\n",
    "            gaps = 0\n",
    "            for it in range(1, iters_for_nk):\n",
    "                # Create graph and initial partition\n",
    "                W = InitializeGraph(ni, min_weight, max_weight)\n",
    "                initial_partition = GetKRandomPartition(ni, ki)\n",
    "                # Get initial cost value\n",
    "                initial_z = CutCost(W, initial_partition, ni, ki)\n",
    "                # Get next local maximum\n",
    "                partition, z, elapsed_time = SolveMaxCut(W, ni, ki, initial_z, initial_partition, \"FirstBetterFlip\")\n",
    "                # Save results\n",
    "                times += elapsed_time\n",
    "                gaps += abs(z-initial_z)/initial_z\n",
    "\n",
    "            times_mean[i,j] = np.mean(times)\n",
    "            gaps_mean[i,j] = np.mean(gaps)\n",
    "            j = j + 1\n",
    "        j = 0\n",
    "        i = i + 1\n",
    "    return times_mean, gaps_mean\n"
   ]
  },
  {
   "cell_type": "code",
   "execution_count": 119,
   "metadata": {},
   "outputs": [],
   "source": [
    "min_nodes = 8\n",
    "max_nodes = 1024\n",
    "num_nodes = 8\n",
    "times_mean, gaps_mean = RunGridMaxCut(min_nodes, max_nodes, num_nodes, 2, 4, 1, 10, 10)"
   ]
  },
  {
   "cell_type": "code",
   "execution_count": 117,
   "metadata": {},
   "outputs": [
    {
     "name": "stdout",
     "output_type": "stream",
     "text": [
      "[[4.07529386 2.43354721 2.58051645]\n",
      " [1.16254454 1.44519985 0.99415776]\n",
      " [0.85787786 0.7823852  0.7278667 ]\n",
      " [0.52225712 0.52909134 0.56811994]\n",
      " [0.4383775  0.39383178 0.32854391]\n",
      " [0.27371507 0.24895104 0.23503308]\n",
      " [0.19293308 0.16933503 0.15178628]\n",
      " [0.13279443 0.11196867 0.09110041]]\n"
     ]
    }
   ],
   "source": [
    "print(gaps_mean)"
   ]
  },
  {
   "cell_type": "code",
   "execution_count": 118,
   "metadata": {},
   "outputs": [
    {
     "name": "stdout",
     "output_type": "stream",
     "text": [
      "[[6.000000e-03 5.000000e-03 1.000000e-02]\n",
      " [5.000000e-03 1.900000e-02 2.400000e-02]\n",
      " [3.600000e-02 9.400000e-02 1.298000e-01]\n",
      " [1.925000e-01 4.437000e-01 6.064000e-01]\n",
      " [9.295000e-01 2.188300e+00 3.011100e+00]\n",
      " [6.139700e+00 1.386800e+01 1.523430e+01]\n",
      " [3.892980e+01 6.637650e+01 8.533050e+01]\n",
      " [1.832857e+02 9.361750e+01 5.361600e+01]]\n"
     ]
    }
   ],
   "source": [
    "print(times_mean)"
   ]
  },
  {
   "cell_type": "code",
   "execution_count": 122,
   "metadata": {},
   "outputs": [],
   "source": [
    "nodes = np.geomspace(min_nodes, max_nodes, num=num_nodes, dtype=int)\n",
    "times_k2 = times_mean[:,0]"
   ]
  },
  {
   "cell_type": "code",
   "execution_count": 124,
   "metadata": {},
   "outputs": [
    {
     "data": {
      "text/plain": [
       "<matplotlib.collections.PathCollection at 0x1d0f74cae80>"
      ]
     },
     "execution_count": 124,
     "metadata": {},
     "output_type": "execute_result"
    },
    {
     "data": {
      "image/png": "[encoded data removed]",
      "text/plain": [
       "<Figure size 432x288 with 1 Axes>"
      ]
     },
     "metadata": {
      "needs_background": "light"
     },
     "output_type": "display_data"
    }
   ],
   "source": [
    "plt.scatter(nodes, times_k2)"
   ]
  },
  {
   "cell_type": "code",
   "execution_count": null,
   "metadata": {},
   "outputs": [],
   "source": []
  }
 ],
 "metadata": {
  "kernelspec": {
   "display_name": "Python 3",
   "language": "python",
   "name": "python3"
  },
  "language_info": {
   "codemirror_mode": {
    "name": "ipython",
    "version": 3
   },
   "file_extension": ".py",
   "mimetype": "text/x-python",
   "name": "python",
   "nbconvert_exporter": "python",
   "pygments_lexer": "ipython3",
   "version": "3.7.3"
  }
 },
 "nbformat": 4,
 "nbformat_minor": 2
}
