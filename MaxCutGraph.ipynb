{
 "cells": [
  {
   "cell_type": "markdown",
   "metadata": {},
   "source": [
    "<h1>Max-cut as IP instance</h1>\n",
    "<h3>Import libraries</h3>"
   ]
  },
  {
   "cell_type": "code",
   "execution_count": 12,
   "metadata": {},
   "outputs": [
    {
     "name": "stdout",
     "output_type": "stream",
     "text": [
      "Using matplotlib backend: Qt5Agg\n"
     ]
    }
   ],
   "source": [
    "import numpy as np\n",
    "import networkx as nx\n",
    "import networkx.drawing\n",
    "import matplotlib.pyplot as plt\n",
    "import gurobipy as gp\n",
    "from gurobipy import GRB\n",
    "\n",
    "%matplotlib"
   ]
  },
  {
   "cell_type": "markdown",
   "metadata": {},
   "source": [
    "<h3>Define functions</h3>"
   ]
  },
  {
   "cell_type": "code",
   "execution_count": 41,
   "metadata": {},
   "outputs": [],
   "source": [
    "def PlotGraphWithEdges(G):\n",
    "    pos = nx.spring_layout(G)\n",
    "    # Draw the graph according to node positions\n",
    "    nx.draw(G, pos, with_labels=True)\n",
    "    # Create edge labels\n",
    "    labels = nx.get_edge_attributes(G,'weight')\n",
    "\n",
    "    # Draw edge labels according to node positions\n",
    "    nx.draw_networkx_edge_labels(G, pos, edge_labels=labels)\n",
    "\n",
    "    plt.show()\n",
    "    \n",
    "def printSolution(m):\n",
    "    if m.status == GRB.OPTIMAL:\n",
    "        print('\\nCost: %g' % m.objVal)\n",
    "    else:\n",
    "        print('No solution')"
   ]
  },
  {
   "cell_type": "code",
   "execution_count": 14,
   "metadata": {},
   "outputs": [],
   "source": [
    "# Number of nodes\n",
    "n = 7\n",
    "\n",
    "# Max weight\n",
    "w_max = 10\n",
    "\n",
    "# Create random integer matrix\n",
    "W = np.random.randint(w_max, size=(n, n))\n",
    "\n",
    "# Set diagonal to 0\n",
    "np.fill_diagonal(W, 0)\n",
    "\n",
    "# Make it symmetric\n",
    "W = (W + W.T)/2\n",
    "\n",
    "# Convert matrix to graph\n",
    "G = nx.from_numpy_matrix(W)"
   ]
  },
  {
   "cell_type": "code",
   "execution_count": 15,
   "metadata": {},
   "outputs": [],
   "source": [
    "# Draw\n",
    "PlotGraphWithEdges(G)"
   ]
  },
  {
   "cell_type": "code",
   "execution_count": 49,
   "metadata": {
    "scrolled": true
   },
   "outputs": [
    {
     "ename": "TypeError",
     "evalue": "write() takes exactly 2 positional arguments (1 given)",
     "output_type": "error",
     "traceback": [
      "\u001b[1;31m---------------------------------------------------------------------------\u001b[0m",
      "\u001b[1;31mTypeError\u001b[0m                                 Traceback (most recent call last)",
      "\u001b[1;32m<ipython-input-49-05bd4cfc8731>\u001b[0m in \u001b[0;36m<module>\u001b[1;34m\u001b[0m\n\u001b[0;32m     19\u001b[0m \u001b[1;33m\u001b[0m\u001b[0m\n\u001b[0;32m     20\u001b[0m \u001b[0mm\u001b[0m\u001b[1;33m.\u001b[0m\u001b[0maddConstrs\u001b[0m\u001b[1;33m(\u001b[0m\u001b[1;33m(\u001b[0m\u001b[0mv\u001b[0m\u001b[1;33m[\u001b[0m\u001b[0mi\u001b[0m\u001b[1;33m]\u001b[0m\u001b[1;33m*\u001b[0m\u001b[0mv\u001b[0m\u001b[1;33m[\u001b[0m\u001b[0mj\u001b[0m\u001b[1;33m]\u001b[0m\u001b[1;33m>=\u001b[0m\u001b[1;36m1\u001b[0m \u001b[1;32mfor\u001b[0m \u001b[0mi\u001b[0m \u001b[1;32min\u001b[0m \u001b[0mrange\u001b[0m\u001b[1;33m(\u001b[0m\u001b[0mn\u001b[0m\u001b[1;33m)\u001b[0m \u001b[1;32mfor\u001b[0m \u001b[0mj\u001b[0m \u001b[1;32min\u001b[0m \u001b[0mrange\u001b[0m\u001b[1;33m(\u001b[0m\u001b[0mi\u001b[0m\u001b[1;33m,\u001b[0m\u001b[0mn\u001b[0m\u001b[1;33m)\u001b[0m\u001b[1;33m)\u001b[0m\u001b[1;33m,\u001b[0m \u001b[1;34m\"Separation\"\u001b[0m\u001b[1;33m)\u001b[0m\u001b[1;33m\u001b[0m\u001b[1;33m\u001b[0m\u001b[0m\n\u001b[1;32m---> 21\u001b[1;33m \u001b[0mm\u001b[0m\u001b[1;33m.\u001b[0m\u001b[0mwrite\u001b[0m\u001b[1;33m(\u001b[0m\u001b[1;33m)\u001b[0m\u001b[1;33m\u001b[0m\u001b[1;33m\u001b[0m\u001b[0m\n\u001b[0m\u001b[0;32m     22\u001b[0m \u001b[1;31m#m.optimize()\u001b[0m\u001b[1;33m\u001b[0m\u001b[1;33m\u001b[0m\u001b[1;33m\u001b[0m\u001b[0m\n\u001b[0;32m     23\u001b[0m \u001b[1;33m\u001b[0m\u001b[0m\n",
      "\u001b[1;32mmodel.pxi\u001b[0m in \u001b[0;36mgurobipy.Model.write\u001b[1;34m()\u001b[0m\n",
      "\u001b[1;31mTypeError\u001b[0m: write() takes exactly 2 positional arguments (1 given)"
     ]
    }
   ],
   "source": [
    "# Define x variables\n",
    "v_label = 'v'\n",
    "v_labels = []\n",
    "for i in range(n):\n",
    "    v_labels.append(v_label + str(i))\n",
    "\n",
    "# Define gurobi model\n",
    "m = gp.Model(\"Max-Cut\")\n",
    "\n",
    "v = m.addVars(n, lb=-1, ub=1, vtype=GRB.INTEGER, name=\"v\")\n",
    "\n",
    "# Create weight pairs\n",
    "weights = {}\n",
    "for i in range(n):\n",
    "    for j in range(n):\n",
    "        weights.update({(v_label + str(i), v_label + str(j)): W[i,j]})\n",
    "        \n",
    "m.setObjective(gp.quicksum(0.5*W[i,j]*(1-v[i]*v[j]) for i in range(n) for j in range(n)), GRB.MAXIMIZE)\n",
    "\n",
    "m.addConstrs((v[i]*v[j]>=1 for i in range(n) for j in range(i,n)), \"Separation\")\n",
    "m.write()\n",
    "#m.optimize()\n",
    "\n",
    "#printSolution(m)"
   ]
  },
  {
   "cell_type": "code",
   "execution_count": 20,
   "metadata": {},
   "outputs": [
    {
     "name": "stdout",
     "output_type": "stream",
     "text": [
      "{('v0', 'v0'): 0.0, ('v0', 'v1'): 2.0, ('v0', 'v2'): 4.5, ('v0', 'v3'): 2.0, ('v0', 'v4'): 3.5, ('v0', 'v5'): 8.5, ('v0', 'v6'): 6.0, ('v1', 'v0'): 2.0, ('v1', 'v1'): 0.0, ('v1', 'v2'): 2.5, ('v1', 'v3'): 6.5, ('v1', 'v4'): 5.0, ('v1', 'v5'): 4.5, ('v1', 'v6'): 1.0, ('v2', 'v0'): 4.5, ('v2', 'v1'): 2.5, ('v2', 'v2'): 0.0, ('v2', 'v3'): 8.5, ('v2', 'v4'): 4.0, ('v2', 'v5'): 1.5, ('v2', 'v6'): 3.5, ('v3', 'v0'): 2.0, ('v3', 'v1'): 6.5, ('v3', 'v2'): 8.5, ('v3', 'v3'): 0.0, ('v3', 'v4'): 1.5, ('v3', 'v5'): 5.5, ('v3', 'v6'): 6.5, ('v4', 'v0'): 3.5, ('v4', 'v1'): 5.0, ('v4', 'v2'): 4.0, ('v4', 'v3'): 1.5, ('v4', 'v4'): 0.0, ('v4', 'v5'): 1.0, ('v4', 'v6'): 8.0, ('v5', 'v0'): 8.5, ('v5', 'v1'): 4.5, ('v5', 'v2'): 1.5, ('v5', 'v3'): 5.5, ('v5', 'v4'): 1.0, ('v5', 'v5'): 0.0, ('v5', 'v6'): 2.0, ('v6', 'v0'): 6.0, ('v6', 'v1'): 1.0, ('v6', 'v2'): 3.5, ('v6', 'v3'): 6.5, ('v6', 'v4'): 8.0, ('v6', 'v5'): 2.0, ('v6', 'v6'): 0.0}\n"
     ]
    }
   ],
   "source": [
    "print(weights)"
   ]
  },
  {
   "cell_type": "code",
   "execution_count": null,
   "metadata": {},
   "outputs": [],
   "source": []
  }
 ],
 "metadata": {
  "kernelspec": {
   "display_name": "Python 3",
   "language": "python",
   "name": "python3"
  },
  "language_info": {
   "codemirror_mode": {
    "name": "ipython",
    "version": 3
   },
   "file_extension": ".py",
   "mimetype": "text/x-python",
   "name": "python",
   "nbconvert_exporter": "python",
   "pygments_lexer": "ipython3",
   "version": "3.7.3"
  }
 },
 "nbformat": 4,
 "nbformat_minor": 2
}
